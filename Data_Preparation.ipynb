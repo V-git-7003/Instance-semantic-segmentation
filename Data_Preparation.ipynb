{
 "cells": [
  {
   "cell_type": "code",
   "execution_count": 22,
   "metadata": {},
   "outputs": [
    {
     "name": "stdout",
     "output_type": "stream",
     "text": [
      "Data/Train/Image\n",
      "0\n",
      "Data/Train/Background\n",
      "1\n",
      "Data/Train/Partial\n",
      "2\n"
     ]
    }
   ],
   "source": [
    "import numpy as np\n",
    "import matplotlib.pyplot as plt\n",
    "import cv2\n",
    "import os\n",
    "import random \n",
    "\n",
    "DATADIR = \"Data/Train/\"\n",
    "CATEGORIES = [\"Image\",\"Background\",\"Partial\"]\n",
    "def create_training_data():\n",
    "    Training_Data = []\n",
    "    img_size = 50\n",
    "    X = []\n",
    "    y = []\n",
    "    for categories in CATEGORIES:\n",
    "        Path = os.path.join(DATADIR,categories) # gives the path to the images; Data/Train/Image or Background\n",
    "        print(Path)\n",
    "        class_num = CATEGORIES.index(categories) # numbers the classes\n",
    "        print(class_num)\n",
    "        try:\n",
    "            for img in os.listdir(Path): #gives the images from the path\n",
    "                img_array = cv2.imread(os.path.join(Path,img),cv2.IMREAD_GRAYSCALE) \n",
    "                Training_Data.append([img_array,class_num])\n",
    "                #plt.imshow(img_array,cmap='gray')\n",
    "                #plt.show()\n",
    "                #break\n",
    "        except Exception as e:\n",
    "            pass\n",
    "    random.shuffle(Training_Data) # do it before conversion to array as list is mutable\n",
    "    \n",
    "    for features,labels in Training_Data:\n",
    "        X.append(features)\n",
    "        y.append(labels)\n",
    "    \n",
    "    X = np.array(X).reshape(-1,img_size,img_size,1) # converts it to arrays with shape (number of images,dim of image)\n",
    "    y = np.array(y)\n",
    "    X = X/255.0 # this is normaalization of only the images\n",
    "    \n",
    "    #print(y[5])\n",
    "    return X,y\n",
    "\n",
    "X,y = create_training_data()\n"
   ]
  },
  {
   "cell_type": "code",
   "execution_count": 23,
   "metadata": {},
   "outputs": [
    {
     "name": "stdout",
     "output_type": "stream",
     "text": [
      "[2 2 2 1 0 0 1 0 0 2 1 0 1 1 2 1 2 0 0 2 1 2 2 2 1 1 0 0 0 0 0 2 2 0 2 0 2\n",
      " 0 0 2 1 2 1 1 0 1 1 0 2 0 2 0 0 2 1 0 0 0 0 1 1 2 2 1 2 2 2 2 0 0 2 2 1 0\n",
      " 2 1 0 1 2 1 1 1 1 2 2 0 2 2 0 2 1 1 1 1 2 0 1 0 2 2 1 0 0 1 2 2 0 1 0 2 2\n",
      " 1 1 1 2 1 2 2 2 1 0 1 0 2 0 2 2 2 0 0 0 1 1 2 1 2 2 0 2 0 2 2 2 0 2 0 1 1\n",
      " 2 2 1 1 0 2 0 2 1 0 2 2 0 0 2 0 2 1 0 0 0 0 0 0 0 0 1 0 1 0 0 2 1 2 0 2 1\n",
      " 0 0 2 1 1 2 2 1 0 2 2 1 0 0 0 2 0 2 1 2 2 2 1 1 0 1 0 2 2 0 1 1 1 2 2 2 2\n",
      " 1 1 2 1 1 0 0 2 0 1 1 2 2 0 0 0 0 1 1 2 1 0 0 2 2 1 0 2 2 1 2 0 2 0 1 1 0\n",
      " 1 2 1 0 0 0 2 0 0 0 1 2 1 0 0 1 2 2 0 0 1 1 0 1 0 2 1 1 2 1 0 1 1 1 2 2 0\n",
      " 0 0 2 0 1 0 2 1 2 0 2 1 2 2 0 0 0 1 2 1 2 2 2 1 0 1 0 0 0 0 0 0 1 1 1 2 0\n",
      " 1 2 2 1 1 1 1 1 0 2 1 1 1 1 0 2 0 2 0 0 1 1 0 1 0 1 1 0 1 2 2 2 2 1 2 2 1\n",
      " 0 2 1 0 1 1 1 1 2 1 0 1 2 2 1 0 1 1 2 2 1 2 0 1 0 0 2 0 1 1 1 0 1 1 1 2 0\n",
      " 2]\n"
     ]
    }
   ],
   "source": [
    "print(y)"
   ]
  },
  {
   "cell_type": "code",
   "execution_count": 26,
   "metadata": {},
   "outputs": [
    {
     "name": "stdout",
     "output_type": "stream",
     "text": [
      "There is 2 in the ith0\n",
      "There is 2 in the ith1\n",
      "There is 2 in the ith2\n",
      "There is 2 in the ith9\n",
      "There is 2 in the ith14\n",
      "There is 2 in the ith16\n",
      "There is 2 in the ith19\n",
      "There is 2 in the ith21\n",
      "There is 2 in the ith22\n",
      "There is 2 in the ith23\n",
      "There is 2 in the ith31\n",
      "There is 2 in the ith32\n",
      "There is 2 in the ith34\n",
      "There is 2 in the ith36\n",
      "There is 2 in the ith39\n",
      "There is 2 in the ith41\n",
      "There is 2 in the ith48\n",
      "There is 2 in the ith50\n",
      "There is 2 in the ith53\n",
      "There is 2 in the ith61\n",
      "There is 2 in the ith62\n",
      "There is 2 in the ith64\n",
      "There is 2 in the ith65\n",
      "There is 2 in the ith66\n",
      "There is 2 in the ith67\n",
      "There is 2 in the ith70\n",
      "There is 2 in the ith71\n",
      "There is 2 in the ith74\n",
      "There is 2 in the ith78\n",
      "There is 2 in the ith83\n",
      "There is 2 in the ith84\n",
      "There is 2 in the ith86\n",
      "There is 2 in the ith87\n",
      "There is 2 in the ith89\n",
      "There is 2 in the ith94\n",
      "There is 2 in the ith98\n",
      "There is 2 in the ith99\n",
      "There is 2 in the ith104\n",
      "There is 2 in the ith105\n",
      "There is 2 in the ith109\n",
      "There is 2 in the ith110\n",
      "There is 2 in the ith114\n",
      "There is 2 in the ith116\n",
      "There is 2 in the ith117\n",
      "There is 2 in the ith118\n",
      "There is 2 in the ith123\n",
      "There is 2 in the ith125\n",
      "There is 2 in the ith126\n",
      "There is 2 in the ith127\n",
      "There is 2 in the ith133\n",
      "There is 2 in the ith135\n",
      "There is 2 in the ith136\n",
      "There is 2 in the ith138\n",
      "There is 2 in the ith140\n",
      "There is 2 in the ith141\n",
      "There is 2 in the ith142\n",
      "There is 2 in the ith144\n",
      "There is 2 in the ith148\n",
      "There is 2 in the ith149\n",
      "There is 2 in the ith153\n",
      "There is 2 in the ith155\n",
      "There is 2 in the ith158\n",
      "There is 2 in the ith159\n",
      "There is 2 in the ith162\n",
      "There is 2 in the ith164\n",
      "There is 2 in the ith179\n",
      "There is 2 in the ith181\n",
      "There is 2 in the ith183\n",
      "There is 2 in the ith187\n",
      "There is 2 in the ith190\n",
      "There is 2 in the ith191\n",
      "There is 2 in the ith194\n",
      "There is 2 in the ith195\n",
      "There is 2 in the ith200\n",
      "There is 2 in the ith202\n",
      "There is 2 in the ith204\n",
      "There is 2 in the ith205\n",
      "There is 2 in the ith206\n",
      "There is 2 in the ith212\n",
      "There is 2 in the ith213\n",
      "There is 2 in the ith218\n",
      "There is 2 in the ith219\n",
      "There is 2 in the ith220\n",
      "There is 2 in the ith221\n",
      "There is 2 in the ith224\n",
      "There is 2 in the ith229\n",
      "There is 2 in the ith233\n",
      "There is 2 in the ith234\n",
      "There is 2 in the ith241\n",
      "There is 2 in the ith245\n",
      "There is 2 in the ith246\n",
      "There is 2 in the ith249\n",
      "There is 2 in the ith250\n",
      "There is 2 in the ith252\n",
      "There is 2 in the ith254\n",
      "There is 2 in the ith260\n",
      "There is 2 in the ith265\n",
      "There is 2 in the ith270\n",
      "There is 2 in the ith275\n",
      "There is 2 in the ith276\n",
      "There is 2 in the ith284\n",
      "There is 2 in the ith287\n",
      "There is 2 in the ith293\n",
      "There is 2 in the ith294\n",
      "There is 2 in the ith298\n",
      "There is 2 in the ith302\n",
      "There is 2 in the ith304\n",
      "There is 2 in the ith306\n",
      "There is 2 in the ith308\n",
      "There is 2 in the ith309\n",
      "There is 2 in the ith314\n",
      "There is 2 in the ith316\n",
      "There is 2 in the ith317\n",
      "There is 2 in the ith318\n",
      "There is 2 in the ith331\n",
      "There is 2 in the ith334\n",
      "There is 2 in the ith335\n",
      "There is 2 in the ith342\n",
      "There is 2 in the ith348\n",
      "There is 2 in the ith350\n",
      "There is 2 in the ith362\n",
      "There is 2 in the ith363\n",
      "There is 2 in the ith364\n",
      "There is 2 in the ith365\n",
      "There is 2 in the ith367\n",
      "There is 2 in the ith368\n",
      "There is 2 in the ith371\n",
      "There is 2 in the ith378\n",
      "There is 2 in the ith382\n",
      "There is 2 in the ith383\n",
      "There is 2 in the ith388\n",
      "There is 2 in the ith389\n",
      "There is 2 in the ith391\n",
      "There is 2 in the ith396\n",
      "There is 2 in the ith405\n",
      "There is 2 in the ith407\n"
     ]
    }
   ],
   "source": [
    "for i in range(408):\n",
    "    if y[i]==2:\n",
    "        print(\"There is 2 in the ith\"+str(i))\n",
    "    "
   ]
  },
  {
   "cell_type": "code",
   "execution_count": 8,
   "metadata": {},
   "outputs": [
    {
     "name": "stdout",
     "output_type": "stream",
     "text": [
      "Data/Train/Image\n",
      "0\n",
      "Data/Train/Background\n",
      "1\n",
      "Data/Train/Partial\n",
      "2\n",
      "(408, 2)\n",
      "(408, 50, 50, 1)\n"
     ]
    }
   ],
   "source": [
    "import numpy as np\n",
    "import matplotlib.pyplot as plt\n",
    "import cv2\n",
    "import os\n",
    "import random \n",
    "\n",
    "DATADIR = \"Data/Train/\"\n",
    "CATEGORIES = [\"Image\",\"Background\",\"Partial\"]\n",
    "Training_Data = []\n",
    "img_size = 50\n",
    "X = []\n",
    "y = []\n",
    "for categories in CATEGORIES:\n",
    "    Path = os.path.join(DATADIR,categories) # gives the path to the images; Data/Train/Image or Background\n",
    "    print(Path)\n",
    "    class_num = CATEGORIES.index(categories) # numbers the classes\n",
    "    print(class_num)\n",
    "    try:\n",
    "        for img in os.listdir(Path): #gives the images from the path\n",
    "            img_array = cv2.imread(os.path.join(Path,img),cv2.IMREAD_GRAYSCALE) \n",
    "            Training_Data.append([img_array,class_num])\n",
    "            #plt.imshow(img_array,cmap='gray')\n",
    "            #plt.show()\n",
    "            #break\n",
    "    except Exception as e:\n",
    "        pass\n",
    "print(np.array(Training_Data).shape)\n",
    "random.shuffle(Training_Data) # do it before conversion to array as list is mutable\n",
    "\n",
    "for features,labels in Training_Data:\n",
    "    X.append(features)\n",
    "    y.append(labels)\n",
    "\n",
    "X = np.array(X).reshape(-1,img_size,img_size,1) # converts it to arrays with shape (number of images,dim of image)\n",
    "y = np.array(y)\n",
    "print(X.shape)\n",
    "X = X/255.0 # this is normaalization of only the images\n",
    "\n"
   ]
  },
  {
   "cell_type": "code",
   "execution_count": 4,
   "metadata": {},
   "outputs": [
    {
     "ename": "SyntaxError",
     "evalue": "EOF while scanning triple-quoted string literal (<ipython-input-4-ed8631b2297f>, line 35)",
     "output_type": "error",
     "traceback": [
      "\u001b[0;36m  File \u001b[0;32m\"<ipython-input-4-ed8631b2297f>\"\u001b[0;36m, line \u001b[0;32m35\u001b[0m\n\u001b[0;31m    '''\u001b[0m\n\u001b[0m                   ^\u001b[0m\n\u001b[0;31mSyntaxError\u001b[0m\u001b[0;31m:\u001b[0m EOF while scanning triple-quoted string literal\n"
     ]
    }
   ],
   "source": [
    "import numpy as np\n",
    "import matplotlib.pyplot as plt\n",
    "import cv2\n",
    "import os\n",
    "import random \n",
    "\n",
    "Path = \"Data/Test/\"\n",
    "#CATEGORIES = [\"Image\",\"Background\"]\n",
    "def test_data():\n",
    "    #Training_Data = []\n",
    "    #img_size = 50\n",
    "    #X = []\n",
    "    #y = []\n",
    "    try:\n",
    "        for img in os.listdir(Path): #gives the images from the path\n",
    "            #img_array = cv2.imread(os.path.join(Path,img),cv2.IMREAD_GRAYSCALE) \n",
    "            #Training_Data.append([img_array,class_num])\n",
    "            plt.imshow(img_array,cmap='gray')\n",
    "            plt.show()\n",
    "            break\n",
    "    except Exception as e:\n",
    "            pass\n",
    "    random.shuffle(Training_Data) # do it before conversion to array as list is mutable\n",
    "    \n",
    "    '''\n",
    "    X = np.array(X).reshape(-1,img_size,img_size,1) # converts it to arrays with shape (number of images,dim of image)\n",
    "    y = np.array(y)\n",
    "    print(X.shape)\n",
    "    X = X/255.0 # this is normaalization of only the images\n",
    "    '''\n",
    "\n",
    "    return X,y\n",
    "\n",
    "X,y = create_training_data()\n",
    "'''            "
   ]
  },
  {
   "cell_type": "code",
   "execution_count": 57,
   "metadata": {},
   "outputs": [
    {
     "name": "stdout",
     "output_type": "stream",
     "text": [
      "1.tif\n",
      "9.tif\n",
      "3.tif\n",
      "0.tif\n",
      "4.tif\n",
      "10.tif\n",
      "8.tif\n",
      "6.tif\n",
      "7.tif\n",
      "11.tif\n",
      "2.tif\n",
      "5.tif\n",
      "(12, 50, 50, 1)\n",
      "[[[0.10196078]\n",
      "  [0.14901961]\n",
      "  [0.10196078]\n",
      "  ...\n",
      "  [0.1372549 ]\n",
      "  [0.17254902]\n",
      "  [0.18431373]]\n",
      "\n",
      " [[0.07843137]\n",
      "  [0.04313725]\n",
      "  [0.11372549]\n",
      "  ...\n",
      "  [0.11372549]\n",
      "  [0.16078431]\n",
      "  [0.10196078]]\n",
      "\n",
      " [[0.18431373]\n",
      "  [0.09019608]\n",
      "  [0.18431373]\n",
      "  ...\n",
      "  [0.11372549]\n",
      "  [0.11372549]\n",
      "  [0.14901961]]\n",
      "\n",
      " ...\n",
      "\n",
      " [[0.10196078]\n",
      "  [0.11372549]\n",
      "  [0.16078431]\n",
      "  ...\n",
      "  [0.09019608]\n",
      "  [0.18431373]\n",
      "  [0.06666667]]\n",
      "\n",
      " [[0.14901961]\n",
      "  [0.21960784]\n",
      "  [0.14901961]\n",
      "  ...\n",
      "  [0.11372549]\n",
      "  [0.05490196]\n",
      "  [0.04313725]]\n",
      "\n",
      " [[0.17254902]\n",
      "  [0.18431373]\n",
      "  [0.31372549]\n",
      "  ...\n",
      "  [0.17254902]\n",
      "  [0.1372549 ]\n",
      "  [0.10196078]]]\n"
     ]
    }
   ],
   "source": [
    "import numpy as np\n",
    "import matplotlib.pyplot as plt\n",
    "import cv2\n",
    "import os\n",
    "import random  \n",
    "def Test_Data():\n",
    "    img_size = 50\n",
    "    Path = \"Data/Test\"\n",
    "    Test = []\n",
    "    try:\n",
    "        for img in os.listdir(Path): #gives the images from the path\n",
    "            img_array = cv2.imread(os.path.join(Path,img),cv2.IMREAD_GRAYSCALE) \n",
    "            Test.append(img_array)\n",
    "            print(img) \n",
    "            #plt.imshow(img_array,cmap='gray')\n",
    "            #plt.show()\n",
    "            #break\n",
    "    except Exception as e:\n",
    "        pass\n",
    "    Test = np.array(Test).reshape(-1,img_size,img_size,1)\n",
    "    Test = Test/255.0\n",
    "    print(Test.shape)\n",
    "    return Test\n",
    "t = Test_Data()\n",
    "#print(t.shape)\n",
    "print(t[11])"
   ]
  },
  {
   "cell_type": "code",
   "execution_count": 44,
   "metadata": {},
   "outputs": [
    {
     "name": "stdout",
     "output_type": "stream",
     "text": [
      "272\n",
      "272\n"
     ]
    }
   ],
   "source": [
    "print(len(y))\n",
    "print(len(X))"
   ]
  },
  {
   "cell_type": "code",
   "execution_count": 41,
   "metadata": {},
   "outputs": [
    {
     "name": "stdout",
     "output_type": "stream",
     "text": [
      "(272, 50, 50, 1)\n",
      "[[[[0.        ]\n",
      "   [0.        ]\n",
      "   [0.        ]\n",
      "   ...\n",
      "   [0.        ]\n",
      "   [0.        ]\n",
      "   [0.        ]]\n",
      "\n",
      "  [[0.00784314]\n",
      "   [0.        ]\n",
      "   [0.        ]\n",
      "   ...\n",
      "   [0.        ]\n",
      "   [0.        ]\n",
      "   [0.        ]]\n",
      "\n",
      "  [[0.        ]\n",
      "   [0.00784314]\n",
      "   [0.        ]\n",
      "   ...\n",
      "   [0.        ]\n",
      "   [0.        ]\n",
      "   [0.        ]]\n",
      "\n",
      "  ...\n",
      "\n",
      "  [[0.00784314]\n",
      "   [0.        ]\n",
      "   [0.01960784]\n",
      "   ...\n",
      "   [0.        ]\n",
      "   [0.        ]\n",
      "   [0.        ]]\n",
      "\n",
      "  [[0.        ]\n",
      "   [0.00784314]\n",
      "   [0.        ]\n",
      "   ...\n",
      "   [0.        ]\n",
      "   [0.        ]\n",
      "   [0.        ]]\n",
      "\n",
      "  [[0.        ]\n",
      "   [0.01960784]\n",
      "   [0.        ]\n",
      "   ...\n",
      "   [0.        ]\n",
      "   [0.        ]\n",
      "   [0.        ]]]]\n"
     ]
    }
   ],
   "source": [
    "print(X.shape)\n",
    "print(X[0:1])"
   ]
  },
  {
   "cell_type": "code",
   "execution_count": 9,
   "metadata": {},
   "outputs": [
    {
     "name": "stdout",
     "output_type": "stream",
     "text": [
      "[[32 20 44 ... 14 35 20]\n",
      " [29 38 47 ... 26 35 17]\n",
      " [26 14 53 ... 23 29  8]\n",
      " ...\n",
      " [14 17 29 ... 38 17 29]\n",
      " [11 41 26 ... 23  5 26]\n",
      " [38 41 11 ... 14 32 23]]\n"
     ]
    }
   ],
   "source": [
    "print(img_array)"
   ]
  },
  {
   "cell_type": "code",
   "execution_count": 15,
   "metadata": {},
   "outputs": [
    {
     "name": "stdout",
     "output_type": "stream",
     "text": [
      "272\n"
     ]
    }
   ],
   "source": [
    "print(len(Training_Data))"
   ]
  },
  {
   "cell_type": "code",
   "execution_count": 20,
   "metadata": {},
   "outputs": [
    {
     "name": "stdout",
     "output_type": "stream",
     "text": [
      "1\n",
      "0\n",
      "0\n",
      "0\n",
      "1\n",
      "1\n",
      "0\n",
      "0\n",
      "1\n",
      "1\n"
     ]
    }
   ],
   "source": [
    "import random \n",
    "random.shuffle(Training_Data)\n",
    "for i in Training_Data[:10]:\n",
    "    print(i[1])"
   ]
  },
  {
   "cell_type": "code",
   "execution_count": 27,
   "metadata": {},
   "outputs": [
    {
     "name": "stdout",
     "output_type": "stream",
     "text": [
      "(272, 50, 50, 1)\n"
     ]
    }
   ],
   "source": [
    "X = [] #images or features\n",
    "y = [] #lables as 0 or 1\n",
    "img_size = 50\n",
    "for features,labels in Training_Data:\n",
    "    X.append(features)\n",
    "    y.append(labels)\n",
    "X = np.array(X).reshape(-1,img_size,img_size,1)\n",
    "print(X.shape)"
   ]
  },
  {
   "cell_type": "code",
   "execution_count": 24,
   "metadata": {},
   "outputs": [
    {
     "name": "stdout",
     "output_type": "stream",
     "text": [
      "[[array([[3, 0, 5, ..., 0, 0, 0],\n",
      "       [0, 0, 3, ..., 0, 4, 0],\n",
      "       [0, 2, 0, ..., 0, 0, 1],\n",
      "       ...,\n",
      "       [0, 3, 0, ..., 0, 0, 0],\n",
      "       [0, 0, 0, ..., 0, 0, 0],\n",
      "       [0, 0, 0, ..., 0, 4, 1]], dtype=uint8), 1]]\n"
     ]
    }
   ],
   "source": [
    "print(Training_Data[:1])"
   ]
  }
 ],
 "metadata": {
  "kernelspec": {
   "display_name": "Python 3",
   "language": "python",
   "name": "python3"
  },
  "language_info": {
   "codemirror_mode": {
    "name": "ipython",
    "version": 3
   },
   "file_extension": ".py",
   "mimetype": "text/x-python",
   "name": "python",
   "nbconvert_exporter": "python",
   "pygments_lexer": "ipython3",
   "version": "3.7.4"
  }
 },
 "nbformat": 4,
 "nbformat_minor": 2
}

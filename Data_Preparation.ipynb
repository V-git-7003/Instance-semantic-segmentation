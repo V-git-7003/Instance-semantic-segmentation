{
 "cells": [
  {
   "cell_type": "code",
   "execution_count": 2,
   "metadata": {},
   "outputs": [
    {
     "name": "stdout",
     "output_type": "stream",
     "text": [
      "Data/Train/Image\n",
      "0\n",
      "Data/Train/Background\n",
      "1\n",
      "Data/Train/Partial\n",
      "2\n"
     ]
    },
    {
     "ename": "NameError",
     "evalue": "name 'Training_data' is not defined",
     "output_type": "error",
     "traceback": [
      "\u001b[0;31m---------------------------------------------------------------------------\u001b[0m",
      "\u001b[0;31mNameError\u001b[0m                                 Traceback (most recent call last)",
      "\u001b[0;32m<ipython-input-2-cfa8eb68c3c7>\u001b[0m in \u001b[0;36m<module>\u001b[0;34m\u001b[0m\n\u001b[1;32m     41\u001b[0m     \u001b[0;32mreturn\u001b[0m \u001b[0mX\u001b[0m\u001b[0;34m,\u001b[0m\u001b[0my\u001b[0m\u001b[0;34m\u001b[0m\u001b[0;34m\u001b[0m\u001b[0m\n\u001b[1;32m     42\u001b[0m \u001b[0;34m\u001b[0m\u001b[0m\n\u001b[0;32m---> 43\u001b[0;31m \u001b[0mX\u001b[0m\u001b[0;34m,\u001b[0m\u001b[0my\u001b[0m \u001b[0;34m=\u001b[0m \u001b[0mcreate_training_data\u001b[0m\u001b[0;34m(\u001b[0m\u001b[0;34m)\u001b[0m\u001b[0;34m\u001b[0m\u001b[0;34m\u001b[0m\u001b[0m\n\u001b[0m\u001b[1;32m     44\u001b[0m '''            \n\u001b[1;32m     45\u001b[0m \u001b[0;34m\u001b[0m\u001b[0m\n",
      "\u001b[0;32m<ipython-input-2-cfa8eb68c3c7>\u001b[0m in \u001b[0;36mcreate_training_data\u001b[0;34m()\u001b[0m\n\u001b[1;32m     26\u001b[0m         \u001b[0;32mexcept\u001b[0m \u001b[0mException\u001b[0m \u001b[0;32mas\u001b[0m \u001b[0me\u001b[0m\u001b[0;34m:\u001b[0m\u001b[0;34m\u001b[0m\u001b[0;34m\u001b[0m\u001b[0m\n\u001b[1;32m     27\u001b[0m             \u001b[0;32mpass\u001b[0m\u001b[0;34m\u001b[0m\u001b[0;34m\u001b[0m\u001b[0m\n\u001b[0;32m---> 28\u001b[0;31m     \u001b[0mprint\u001b[0m\u001b[0;34m(\u001b[0m\u001b[0mTraining_data\u001b[0m\u001b[0;34m)\u001b[0m\u001b[0;34m\u001b[0m\u001b[0;34m\u001b[0m\u001b[0m\n\u001b[0m\u001b[1;32m     29\u001b[0m     \u001b[0mrandom\u001b[0m\u001b[0;34m.\u001b[0m\u001b[0mshuffle\u001b[0m\u001b[0;34m(\u001b[0m\u001b[0mTraining_Data\u001b[0m\u001b[0;34m)\u001b[0m \u001b[0;31m# do it before conversion to array as list is mutable\u001b[0m\u001b[0;34m\u001b[0m\u001b[0;34m\u001b[0m\u001b[0m\n\u001b[1;32m     30\u001b[0m \u001b[0;34m\u001b[0m\u001b[0m\n",
      "\u001b[0;31mNameError\u001b[0m: name 'Training_data' is not defined"
     ]
    }
   ],
   "source": [
    "import numpy as np\n",
    "import matplotlib.pyplot as plt\n",
    "import cv2\n",
    "import os\n",
    "import random \n",
    "\n",
    "DATADIR = \"Data/Train/\"\n",
    "CATEGORIES = [\"Image\",\"Background\",\"Partial\"]\n",
    "def create_training_data():\n",
    "    Training_Data = []\n",
    "    img_size = 50\n",
    "    X = []\n",
    "    y = []\n",
    "    for categories in CATEGORIES:\n",
    "        Path = os.path.join(DATADIR,categories) # gives the path to the images; Data/Train/Image or Background\n",
    "        print(Path)\n",
    "        class_num = CATEGORIES.index(categories) # numbers the classes\n",
    "        print(class_num)\n",
    "        try:\n",
    "            for img in os.listdir(Path): #gives the images from the path\n",
    "                img_array = cv2.imread(os.path.join(Path,img),cv2.IMREAD_GRAYSCALE) \n",
    "                Training_Data.append([img_array,class_num])\n",
    "                #plt.imshow(img_array,cmap='gray')\n",
    "                #plt.show()\n",
    "                #break\n",
    "        except Exception as e:\n",
    "            pass\n",
    "    print(Training_data)\n",
    "    random.shuffle(Training_Data) # do it before conversion to array as list is mutable\n",
    "    \n",
    "    for features,labels in Training_Data:\n",
    "        X.append(features)\n",
    "        y.append(labels)\n",
    "    \n",
    "    X = np.array(X).reshape(-1,img_size,img_size,1) # converts it to arrays with shape (number of images,dim of image)\n",
    "    y = np.array(y)\n",
    "    print(X.shape)\n",
    "    X = X/255.0 # this is normaalization of only the images\n",
    "   \n",
    "\n",
    "    return X,y\n",
    "\n",
    "X,y = create_training_data()\n",
    "'''            \n",
    "            \n",
    "            try: \n",
    "                if categories == \"image\": \n",
    "                    img_array = cv2.imread(os.path.join(Path,img),cv2.IMREAD_GRAYSCALE)\n",
    "                    new_array = cv2.resize(img_array,(img_size,img_size))\n",
    "                    training_dataImage.append(new_array)\n",
    "                    break\n",
    "                else:\n",
    "                    img_array = cv2.imread(os.path.join(Path,img),cv2.IMREAD_GRAYSCALE)\n",
    "                    new_array = cv2.resize(img_array,(img_size,img_size))\n",
    "                    training_dataLabels.append(new_array)\n",
    "                    break\n",
    "            except Exception as e:\n",
    "                pass\n",
    "    \n",
    "    Training_data = list(zip(training_dataImage,training_dataLabels))\n",
    "\n",
    "    for features, label in Training_data:\n",
    "        if np.max(label)>1:\n",
    "            label=label/255\n",
    "            label[label>0.5] = 1\n",
    "            label[label<=0.5] = 0\n",
    "        features = features/255    \n",
    "        L.append(label)\n",
    "        F.append(features)\n",
    "    X = np.array(F).reshape(-1,img_size,img_size,1)\n",
    "    y = np.array(L).reshape(-1,img_size,img_size,1)\n",
    "    \n",
    "\n",
    "    return X,y    \n",
    "    \n",
    "''' "
   ]
  },
  {
   "cell_type": "code",
   "execution_count": 8,
   "metadata": {},
   "outputs": [
    {
     "name": "stdout",
     "output_type": "stream",
     "text": [
      "Data/Train/Image\n",
      "0\n",
      "Data/Train/Background\n",
      "1\n",
      "Data/Train/Partial\n",
      "2\n",
      "(408, 2)\n",
      "(408, 50, 50, 1)\n"
     ]
    }
   ],
   "source": [
    "import numpy as np\n",
    "import matplotlib.pyplot as plt\n",
    "import cv2\n",
    "import os\n",
    "import random \n",
    "\n",
    "DATADIR = \"Data/Train/\"\n",
    "CATEGORIES = [\"Image\",\"Background\",\"Partial\"]\n",
    "Training_Data = []\n",
    "img_size = 50\n",
    "X = []\n",
    "y = []\n",
    "for categories in CATEGORIES:\n",
    "    Path = os.path.join(DATADIR,categories) # gives the path to the images; Data/Train/Image or Background\n",
    "    print(Path)\n",
    "    class_num = CATEGORIES.index(categories) # numbers the classes\n",
    "    print(class_num)\n",
    "    try:\n",
    "        for img in os.listdir(Path): #gives the images from the path\n",
    "            img_array = cv2.imread(os.path.join(Path,img),cv2.IMREAD_GRAYSCALE) \n",
    "            Training_Data.append([img_array,class_num])\n",
    "            #plt.imshow(img_array,cmap='gray')\n",
    "            #plt.show()\n",
    "            #break\n",
    "    except Exception as e:\n",
    "        pass\n",
    "print(np.array(Training_Data).shape)\n",
    "random.shuffle(Training_Data) # do it before conversion to array as list is mutable\n",
    "\n",
    "for features,labels in Training_Data:\n",
    "    X.append(features)\n",
    "    y.append(labels)\n",
    "\n",
    "X = np.array(X).reshape(-1,img_size,img_size,1) # converts it to arrays with shape (number of images,dim of image)\n",
    "y = np.array(y)\n",
    "print(X.shape)\n",
    "X = X/255.0 # this is normaalization of only the images\n",
    "\n"
   ]
  },
  {
   "cell_type": "code",
   "execution_count": 4,
   "metadata": {},
   "outputs": [
    {
     "ename": "SyntaxError",
     "evalue": "EOF while scanning triple-quoted string literal (<ipython-input-4-ed8631b2297f>, line 35)",
     "output_type": "error",
     "traceback": [
      "\u001b[0;36m  File \u001b[0;32m\"<ipython-input-4-ed8631b2297f>\"\u001b[0;36m, line \u001b[0;32m35\u001b[0m\n\u001b[0;31m    '''\u001b[0m\n\u001b[0m                   ^\u001b[0m\n\u001b[0;31mSyntaxError\u001b[0m\u001b[0;31m:\u001b[0m EOF while scanning triple-quoted string literal\n"
     ]
    }
   ],
   "source": [
    "import numpy as np\n",
    "import matplotlib.pyplot as plt\n",
    "import cv2\n",
    "import os\n",
    "import random \n",
    "\n",
    "Path = \"Data/Test/\"\n",
    "#CATEGORIES = [\"Image\",\"Background\"]\n",
    "def test_data():\n",
    "    #Training_Data = []\n",
    "    #img_size = 50\n",
    "    #X = []\n",
    "    #y = []\n",
    "    try:\n",
    "        for img in os.listdir(Path): #gives the images from the path\n",
    "            #img_array = cv2.imread(os.path.join(Path,img),cv2.IMREAD_GRAYSCALE) \n",
    "            #Training_Data.append([img_array,class_num])\n",
    "            plt.imshow(img_array,cmap='gray')\n",
    "            plt.show()\n",
    "            break\n",
    "    except Exception as e:\n",
    "            pass\n",
    "    random.shuffle(Training_Data) # do it before conversion to array as list is mutable\n",
    "    \n",
    "    '''\n",
    "    X = np.array(X).reshape(-1,img_size,img_size,1) # converts it to arrays with shape (number of images,dim of image)\n",
    "    y = np.array(y)\n",
    "    print(X.shape)\n",
    "    X = X/255.0 # this is normaalization of only the images\n",
    "    '''\n",
    "\n",
    "    return X,y\n",
    "\n",
    "X,y = create_training_data()\n",
    "'''            "
   ]
  },
  {
   "cell_type": "code",
   "execution_count": 57,
   "metadata": {},
   "outputs": [
    {
     "name": "stdout",
     "output_type": "stream",
     "text": [
      "1.tif\n",
      "9.tif\n",
      "3.tif\n",
      "0.tif\n",
      "4.tif\n",
      "10.tif\n",
      "8.tif\n",
      "6.tif\n",
      "7.tif\n",
      "11.tif\n",
      "2.tif\n",
      "5.tif\n",
      "(12, 50, 50, 1)\n",
      "[[[0.10196078]\n",
      "  [0.14901961]\n",
      "  [0.10196078]\n",
      "  ...\n",
      "  [0.1372549 ]\n",
      "  [0.17254902]\n",
      "  [0.18431373]]\n",
      "\n",
      " [[0.07843137]\n",
      "  [0.04313725]\n",
      "  [0.11372549]\n",
      "  ...\n",
      "  [0.11372549]\n",
      "  [0.16078431]\n",
      "  [0.10196078]]\n",
      "\n",
      " [[0.18431373]\n",
      "  [0.09019608]\n",
      "  [0.18431373]\n",
      "  ...\n",
      "  [0.11372549]\n",
      "  [0.11372549]\n",
      "  [0.14901961]]\n",
      "\n",
      " ...\n",
      "\n",
      " [[0.10196078]\n",
      "  [0.11372549]\n",
      "  [0.16078431]\n",
      "  ...\n",
      "  [0.09019608]\n",
      "  [0.18431373]\n",
      "  [0.06666667]]\n",
      "\n",
      " [[0.14901961]\n",
      "  [0.21960784]\n",
      "  [0.14901961]\n",
      "  ...\n",
      "  [0.11372549]\n",
      "  [0.05490196]\n",
      "  [0.04313725]]\n",
      "\n",
      " [[0.17254902]\n",
      "  [0.18431373]\n",
      "  [0.31372549]\n",
      "  ...\n",
      "  [0.17254902]\n",
      "  [0.1372549 ]\n",
      "  [0.10196078]]]\n"
     ]
    }
   ],
   "source": [
    "import numpy as np\n",
    "import matplotlib.pyplot as plt\n",
    "import cv2\n",
    "import os\n",
    "import random  \n",
    "def Test_Data():\n",
    "    img_size = 50\n",
    "    Path = \"Data/Test\"\n",
    "    Test = []\n",
    "    try:\n",
    "        for img in os.listdir(Path): #gives the images from the path\n",
    "            img_array = cv2.imread(os.path.join(Path,img),cv2.IMREAD_GRAYSCALE) \n",
    "            Test.append(img_array)\n",
    "            print(img) \n",
    "            #plt.imshow(img_array,cmap='gray')\n",
    "            #plt.show()\n",
    "            #break\n",
    "    except Exception as e:\n",
    "        pass\n",
    "    Test = np.array(Test).reshape(-1,img_size,img_size,1)\n",
    "    Test = Test/255.0\n",
    "    print(Test.shape)\n",
    "    return Test\n",
    "t = Test_Data()\n",
    "#print(t.shape)\n",
    "print(t[11])"
   ]
  },
  {
   "cell_type": "code",
   "execution_count": 44,
   "metadata": {},
   "outputs": [
    {
     "name": "stdout",
     "output_type": "stream",
     "text": [
      "272\n",
      "272\n"
     ]
    }
   ],
   "source": [
    "print(len(y))\n",
    "print(len(X))"
   ]
  },
  {
   "cell_type": "code",
   "execution_count": 41,
   "metadata": {},
   "outputs": [
    {
     "name": "stdout",
     "output_type": "stream",
     "text": [
      "(272, 50, 50, 1)\n",
      "[[[[0.        ]\n",
      "   [0.        ]\n",
      "   [0.        ]\n",
      "   ...\n",
      "   [0.        ]\n",
      "   [0.        ]\n",
      "   [0.        ]]\n",
      "\n",
      "  [[0.00784314]\n",
      "   [0.        ]\n",
      "   [0.        ]\n",
      "   ...\n",
      "   [0.        ]\n",
      "   [0.        ]\n",
      "   [0.        ]]\n",
      "\n",
      "  [[0.        ]\n",
      "   [0.00784314]\n",
      "   [0.        ]\n",
      "   ...\n",
      "   [0.        ]\n",
      "   [0.        ]\n",
      "   [0.        ]]\n",
      "\n",
      "  ...\n",
      "\n",
      "  [[0.00784314]\n",
      "   [0.        ]\n",
      "   [0.01960784]\n",
      "   ...\n",
      "   [0.        ]\n",
      "   [0.        ]\n",
      "   [0.        ]]\n",
      "\n",
      "  [[0.        ]\n",
      "   [0.00784314]\n",
      "   [0.        ]\n",
      "   ...\n",
      "   [0.        ]\n",
      "   [0.        ]\n",
      "   [0.        ]]\n",
      "\n",
      "  [[0.        ]\n",
      "   [0.01960784]\n",
      "   [0.        ]\n",
      "   ...\n",
      "   [0.        ]\n",
      "   [0.        ]\n",
      "   [0.        ]]]]\n"
     ]
    }
   ],
   "source": [
    "print(X.shape)\n",
    "print(X[0:1])"
   ]
  },
  {
   "cell_type": "code",
   "execution_count": 9,
   "metadata": {},
   "outputs": [
    {
     "name": "stdout",
     "output_type": "stream",
     "text": [
      "[[32 20 44 ... 14 35 20]\n",
      " [29 38 47 ... 26 35 17]\n",
      " [26 14 53 ... 23 29  8]\n",
      " ...\n",
      " [14 17 29 ... 38 17 29]\n",
      " [11 41 26 ... 23  5 26]\n",
      " [38 41 11 ... 14 32 23]]\n"
     ]
    }
   ],
   "source": [
    "print(img_array)"
   ]
  },
  {
   "cell_type": "code",
   "execution_count": 15,
   "metadata": {},
   "outputs": [
    {
     "name": "stdout",
     "output_type": "stream",
     "text": [
      "272\n"
     ]
    }
   ],
   "source": [
    "print(len(Training_Data))"
   ]
  },
  {
   "cell_type": "code",
   "execution_count": 20,
   "metadata": {},
   "outputs": [
    {
     "name": "stdout",
     "output_type": "stream",
     "text": [
      "1\n",
      "0\n",
      "0\n",
      "0\n",
      "1\n",
      "1\n",
      "0\n",
      "0\n",
      "1\n",
      "1\n"
     ]
    }
   ],
   "source": [
    "import random \n",
    "random.shuffle(Training_Data)\n",
    "for i in Training_Data[:10]:\n",
    "    print(i[1])"
   ]
  },
  {
   "cell_type": "code",
   "execution_count": 27,
   "metadata": {},
   "outputs": [
    {
     "name": "stdout",
     "output_type": "stream",
     "text": [
      "(272, 50, 50, 1)\n"
     ]
    }
   ],
   "source": [
    "X = [] #images or features\n",
    "y = [] #lables as 0 or 1\n",
    "img_size = 50\n",
    "for features,labels in Training_Data:\n",
    "    X.append(features)\n",
    "    y.append(labels)\n",
    "X = np.array(X).reshape(-1,img_size,img_size,1)\n",
    "print(X.shape)"
   ]
  },
  {
   "cell_type": "code",
   "execution_count": 24,
   "metadata": {},
   "outputs": [
    {
     "name": "stdout",
     "output_type": "stream",
     "text": [
      "[[array([[3, 0, 5, ..., 0, 0, 0],\n",
      "       [0, 0, 3, ..., 0, 4, 0],\n",
      "       [0, 2, 0, ..., 0, 0, 1],\n",
      "       ...,\n",
      "       [0, 3, 0, ..., 0, 0, 0],\n",
      "       [0, 0, 0, ..., 0, 0, 0],\n",
      "       [0, 0, 0, ..., 0, 4, 1]], dtype=uint8), 1]]\n"
     ]
    }
   ],
   "source": [
    "print(Training_Data[:1])"
   ]
  }
 ],
 "metadata": {
  "kernelspec": {
   "display_name": "Python 3",
   "language": "python",
   "name": "python3"
  },
  "language_info": {
   "codemirror_mode": {
    "name": "ipython",
    "version": 3
   },
   "file_extension": ".py",
   "mimetype": "text/x-python",
   "name": "python",
   "nbconvert_exporter": "python",
   "pygments_lexer": "ipython3",
   "version": "3.7.4"
  }
 },
 "nbformat": 4,
 "nbformat_minor": 2
}
